{
 "cells": [
  {
   "cell_type": "code",
   "execution_count": 1,
   "metadata": {
    "collapsed": true
   },
   "outputs": [],
   "source": [
    "import numpy as np\n",
    "import matplotlib.pyplot as plt\n",
    "from numpy.linalg import solve, norm\n",
    "from numpy import sin, cos, pi, arctan"
   ]
  },
  {
   "cell_type": "code",
   "execution_count": 2,
   "metadata": {
    "collapsed": true
   },
   "outputs": [],
   "source": [
    "def solve2(a, b, c):\n",
    "    if a == 0:\n",
    "        if b == 0:\n",
    "            return -1  # any x is a solution\n",
    "        return [-c / b, -c / b]\n",
    "\n",
    "    D = b*b - 4*a*c\n",
    "\n",
    "    if D > 0:\n",
    "        x1 = (-b + np.sqrt(D)) / (2*a)\n",
    "        x2 = (-b - np.sqrt(D)) / (2*a)\n",
    "        return [x1, x2]\n",
    "    elif D < 0:\n",
    "        x1 = complex(-b, np.sqrt(-D)) / (2*a)\n",
    "        x2 = complex(-b, -np.sqrt(-D)) / (2*a)\n",
    "        return [x1, x2]\n",
    "    else:\n",
    "        return [-b / (2*a), -b / (2*a)]"
   ]
  },
  {
   "cell_type": "code",
   "execution_count": 3,
   "metadata": {
    "collapsed": true
   },
   "outputs": [],
   "source": [
    "def mypow(x, p):\n",
    "    if x >= 0:\n",
    "        return x ** p\n",
    "    return -((-x) ** p)"
   ]
  },
  {
   "cell_type": "code",
   "execution_count": 6,
   "metadata": {
    "collapsed": true
   },
   "outputs": [],
   "source": [
    "def solve3(a, b, c, d):\n",
    "    print type(a)\n",
    "#     a = float(a); b = float(b); c = float(c); d = float(d)\n",
    "    # reduce to the form y^3 + py + q = 0\n",
    "    # substitution: x = y - b/3a\n",
    "    p = c/a - b*b/(3*a*a)\n",
    "    q = 2*b*b*b/(27*a*a*a) - b*c/(3*a*a) + d/a\n",
    "\n",
    "    Q = p*p*p/27 + q*q/4\n",
    "    # Q > 0 - one real root and two complex conjugated roots\n",
    "    # Q = 0 - one single real root and one double real root, or,\n",
    "\t#         if p = q = 0, then one triple real root\n",
    "\t# Q < 0 - three real roots\n",
    "\n",
    "    if Q >= 0:\n",
    "        alpha   = mypow(-q/2 + np.sqrt(Q), 1.0/3)\n",
    "        beta    = mypow(-q/2 - np.sqrt(Q), 1.0/3)\n",
    "    else:\n",
    "        alpha   = complex(-q/2, np.sqrt(-Q)) ** (1.0/3)\n",
    "        beta    = complex(-q/2, -np.sqrt(-Q)) ** (1.0/3)\n",
    "\n",
    "    x1 = alpha + beta - b/(3*a)\n",
    "    x2 = complex(-(alpha+beta)/2, (alpha-beta)*np.sqrt(3)/2) - b/(3*a)\n",
    "    x3 = complex(-(alpha+beta)/2, -(alpha-beta)*np.sqrt(3)/2) - b/(3*a)\n",
    "    return [x1, x2, x3]"
   ]
  },
  {
   "cell_type": "code",
   "execution_count": 7,
   "metadata": {
    "collapsed": true
   },
   "outputs": [],
   "source": [
    "def solve4(a, b, c, d, e):\n",
    "    print type(a)\n",
    "#     a = float(a); b = float(b); c = float(c); d = float(d); e = float(e)\n",
    "    b /= a; c /= a; d /= a; e /= a;\n",
    "    a = b; b = c; c = d; d = e;\n",
    "\n",
    "    # reduce to the form y^4 + p*y^2 + q*y + r = 0\n",
    "    p = b - 3*a*a/8\n",
    "    q = a*a*a/8 - a*b/2 + c\n",
    "    r = - 3*a*a*a*a/256 + a*a*b/16 - c*a/4 + d\n",
    "\n",
    "    # obtain cubic resolvent A*s^3 + B*s^2 + C*s + D = 0\n",
    "    A = 2\n",
    "    B = -p\n",
    "    C = -2*r\n",
    "    D = r*p - q*q/4\n",
    "    s1, s2, s3 = solve3(A, B, C, D)\n",
    "\n",
    "    s = 0\n",
    "    if np.real(s1) > p/2:\n",
    "        s = s1\n",
    "    elif np.real(s2) > p/2:\n",
    "        s = s2\n",
    "    elif np.real(s3) > p/2:\n",
    "        s = s3\n",
    "\n",
    "    a1 = 1; b1 = -np.sqrt(2*s-p); c1 = q/(2*np.sqrt(2*s-p)) + s\n",
    "    a2 = 1; b2 = np.sqrt(2*s-p); c2 = -q/(2*np.sqrt(2*s-p)) + s\n",
    "\n",
    "    x1, x2 = solve2(a1, b1, c1)\n",
    "    x1 -= a/4\n",
    "    x2 -= a/4\n",
    "    x3, x4 = solve2(a2, b2, c2)\n",
    "    x3 -= a/4\n",
    "    x4 -= a/4\n",
    "    return [x1, x2, x3, x4]"
   ]
  },
  {
   "cell_type": "code",
   "execution_count": null,
   "metadata": {
    "collapsed": true
   },
   "outputs": [],
   "source": [
    "a = 1;\n",
    "b = "
   ]
  }
 ],
 "metadata": {
  "anaconda-cloud": {},
  "kernelspec": {
   "display_name": "Python [conda root]",
   "language": "python",
   "name": "conda-root-py"
  },
  "language_info": {
   "codemirror_mode": {
    "name": "ipython",
    "version": 2
   },
   "file_extension": ".py",
   "mimetype": "text/x-python",
   "name": "python",
   "nbconvert_exporter": "python",
   "pygments_lexer": "ipython2",
   "version": "2.7.12"
  }
 },
 "nbformat": 4,
 "nbformat_minor": 1
}
